{
 "metadata": {
  "name": "",
  "signature": "sha256:783c7552c698a81ce576c93f16934e19cfc40ca4d54a7b4dd3a17fa3ee3baee6"
 },
 "nbformat": 3,
 "nbformat_minor": 0,
 "worksheets": [
  {
   "cells": [
    {
     "cell_type": "markdown",
     "metadata": {},
     "source": [
      "# A probability problem from Cambridge Tripos "
     ]
    },
    {
     "cell_type": "markdown",
     "metadata": {},
     "source": [
      "Consider a particle situated at the origin $(0, 0)$ of $\\mathbb{R}^2$. At successive times a direction\n",
      "is chosen independently by picking an angle uniformly at random in the interval $[0, 2\\pi]$,\n",
      "and the particle then moves an Euclidean unit length in this direction. Find the expected\n",
      "squared Euclidean distance of the particle from the origin after $n$ such movements.(Part 1A, 2014, Paper 2, Section 1, 3F)"
     ]
    },
    {
     "cell_type": "markdown",
     "metadata": {},
     "source": [
      "## Solution"
     ]
    },
    {
     "cell_type": "markdown",
     "metadata": {},
     "source": [
      "The $x$ coordinate of the particle after $n$ movements is given by $\\sum_{i=1}^n cos(\\theta_i)$\n",
      "\n",
      "The $y$ coordinate of the particle after $n$ movements is given by $\\sum_{i=1}^n sin(\\theta_i)$\n",
      "\n",
      "The squared Euclidean distance of the particle from the origin after $n$ movements is given by\n",
      "$\n",
      "\\begin{align}\n",
      "d^2 &&=&& (\\sum_{i=1}^n cos(\\theta_i))^2 + (\\sum_{i=1}^n sin(\\theta_i))^2 \\\\\n",
      "    &&=&& n + \\sum_{1 \\leq i,j \\leq n, i \\neq j} cos(\\theta_i - \\theta_j) \n",
      "\\end{align}\n",
      "$\n",
      "\n",
      "$\n",
      "\\begin{align}\n",
      "\\mathbb{E}[d^2] &&=&& n + \\sum_{1 \\leq i,j \\leq n, i \\neq j} \\mathbb{E}[cos(\\theta_i - \\theta_j)] \n",
      "\\end{align}\n",
      "$\n",
      "\n",
      "where each $\\theta_i$ is uniformly distributed between $[0,2\\pi]$\n",
      "\n",
      "It can be shown that $\\theta_i - \\theta_j$ follows a triangular distribution and that $\\mathbb{E}[cos(\\theta_i - \\theta_j)] = 0$\n",
      "\n",
      "Therefore the expected value of the squared Euclidean distance from the origin after $n$ movements is $n$."
     ]
    },
    {
     "cell_type": "code",
     "collapsed": false,
     "input": [
      "%matplotlib inline"
     ],
     "language": "python",
     "metadata": {},
     "outputs": [],
     "prompt_number": 6
    },
    {
     "cell_type": "code",
     "collapsed": false,
     "input": [
      "from random import uniform\n",
      "from math import pi, cos, sin\n",
      "import matplotlib.pyplot as plt\n",
      "\n",
      "\n",
      "def expSqrLen(n, its):\n",
      "    el = 0\n",
      "    for i in xrange(its):\n",
      "        xsum = sum(cos(uniform(0, 2*pi)) for i in xrange(n))\n",
      "        ysum = sum(sin(uniform(0, 2*pi)) for i in xrange(n))\n",
      "        el += xsum*xsum + ysum*ysum\n",
      "    return el / its\n",
      "\n",
      "x = range(1, 26)\n",
      "y = [expSqrLen(n, 10000) for n in x]\n",
      "plt.plot(x, y)\n",
      "plt.xlabel('n')\n",
      "plt.ylabel('Expected value of length^2')\n",
      "plt.show()"
     ],
     "language": "python",
     "metadata": {},
     "outputs": [
      {
       "metadata": {},
       "output_type": "display_data",
       "png": "[encoded data removed]",
       "text": [
        "<matplotlib.figure.Figure at 0xad35c18>"
       ]
      }
     ],
     "prompt_number": 7
    },
    {
     "cell_type": "code",
     "collapsed": false,
     "input": [],
     "language": "python",
     "metadata": {},
     "outputs": []
    }
   ],
   "metadata": {}
  }
 ]
}